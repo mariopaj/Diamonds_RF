{
 "cells": [
  {
   "cell_type": "markdown",
   "id": "4c007896-0ac7-42e7-a30f-f1787d6b2d7a",
   "metadata": {},
   "source": [
    "# Competición Kaggle Diamantes "
   ]
  },
  {
   "cell_type": "code",
   "execution_count": 77,
   "id": "491d9b6d-712f-4e64-bec9-301d94a79001",
   "metadata": {},
   "outputs": [],
   "source": [
    "import warnings\n",
    "warnings.simplefilter('ignore')\n",
    "\n",
    "import pandas as pd\n",
    "import numpy as np\n",
    "\n",
    "import seaborn as sns\n",
    "import pylab as plt\n",
    "%matplotlib inline\n",
    "\n",
    "from sklearn.preprocessing import LabelEncoder, OrdinalEncoder"
   ]
  },
  {
   "cell_type": "code",
   "execution_count": 2,
   "id": "c72a66c6-3fd7-4c34-ac33-9f2f7546f460",
   "metadata": {
    "tags": []
   },
   "outputs": [
    {
     "data": {
      "text/html": [
       "<div>\n",
       "<style scoped>\n",
       "    .dataframe tbody tr th:only-of-type {\n",
       "        vertical-align: middle;\n",
       "    }\n",
       "\n",
       "    .dataframe tbody tr th {\n",
       "        vertical-align: top;\n",
       "    }\n",
       "\n",
       "    .dataframe thead th {\n",
       "        text-align: right;\n",
       "    }\n",
       "</style>\n",
       "<table border=\"1\" class=\"dataframe\">\n",
       "  <thead>\n",
       "    <tr style=\"text-align: right;\">\n",
       "      <th></th>\n",
       "      <th>carat</th>\n",
       "      <th>cut</th>\n",
       "      <th>color</th>\n",
       "      <th>clarity</th>\n",
       "      <th>depth</th>\n",
       "      <th>table</th>\n",
       "      <th>price</th>\n",
       "      <th>x</th>\n",
       "      <th>y</th>\n",
       "      <th>z</th>\n",
       "      <th>id</th>\n",
       "    </tr>\n",
       "  </thead>\n",
       "  <tbody>\n",
       "    <tr>\n",
       "      <th>0</th>\n",
       "      <td>1.01</td>\n",
       "      <td>Very Good</td>\n",
       "      <td>F</td>\n",
       "      <td>SI2</td>\n",
       "      <td>62.2</td>\n",
       "      <td>58.0</td>\n",
       "      <td>4332.0</td>\n",
       "      <td>6.33</td>\n",
       "      <td>6.38</td>\n",
       "      <td>3.95</td>\n",
       "      <td>0</td>\n",
       "    </tr>\n",
       "    <tr>\n",
       "      <th>1</th>\n",
       "      <td>0.90</td>\n",
       "      <td>Very Good</td>\n",
       "      <td>I</td>\n",
       "      <td>VS2</td>\n",
       "      <td>61.4</td>\n",
       "      <td>58.0</td>\n",
       "      <td>4089.0</td>\n",
       "      <td>6.22</td>\n",
       "      <td>6.25</td>\n",
       "      <td>3.83</td>\n",
       "      <td>1</td>\n",
       "    </tr>\n",
       "    <tr>\n",
       "      <th>2</th>\n",
       "      <td>0.53</td>\n",
       "      <td>Ideal</td>\n",
       "      <td>E</td>\n",
       "      <td>VVS2</td>\n",
       "      <td>62.2</td>\n",
       "      <td>54.0</td>\n",
       "      <td>2273.0</td>\n",
       "      <td>5.19</td>\n",
       "      <td>5.23</td>\n",
       "      <td>3.24</td>\n",
       "      <td>2</td>\n",
       "    </tr>\n",
       "    <tr>\n",
       "      <th>3</th>\n",
       "      <td>0.32</td>\n",
       "      <td>Ideal</td>\n",
       "      <td>I</td>\n",
       "      <td>IF</td>\n",
       "      <td>60.8</td>\n",
       "      <td>54.0</td>\n",
       "      <td>673.0</td>\n",
       "      <td>4.44</td>\n",
       "      <td>4.47</td>\n",
       "      <td>2.71</td>\n",
       "      <td>3</td>\n",
       "    </tr>\n",
       "    <tr>\n",
       "      <th>4</th>\n",
       "      <td>1.06</td>\n",
       "      <td>Ideal</td>\n",
       "      <td>G</td>\n",
       "      <td>VVS2</td>\n",
       "      <td>61.0</td>\n",
       "      <td>57.0</td>\n",
       "      <td>7900.0</td>\n",
       "      <td>6.55</td>\n",
       "      <td>6.57</td>\n",
       "      <td>4.00</td>\n",
       "      <td>4</td>\n",
       "    </tr>\n",
       "  </tbody>\n",
       "</table>\n",
       "</div>"
      ],
      "text/plain": [
       "   carat        cut color clarity  depth  table   price     x     y     z  id\n",
       "0   1.01  Very Good     F     SI2   62.2   58.0  4332.0  6.33  6.38  3.95   0\n",
       "1   0.90  Very Good     I     VS2   61.4   58.0  4089.0  6.22  6.25  3.83   1\n",
       "2   0.53      Ideal     E    VVS2   62.2   54.0  2273.0  5.19  5.23  3.24   2\n",
       "3   0.32      Ideal     I      IF   60.8   54.0   673.0  4.44  4.47  2.71   3\n",
       "4   1.06      Ideal     G    VVS2   61.0   57.0  7900.0  6.55  6.57  4.00   4"
      ]
     },
     "execution_count": 2,
     "metadata": {},
     "output_type": "execute_result"
    }
   ],
   "source": [
    "# Descargamos los datos de train y test(Los datos de train son solo para entrenar y los datos de test son para predecir)\n",
    "\n",
    "df = pd.read_csv(r'C:\\Users\\mario\\OneDrive\\Escritorio\\Bootcamp\\ds_tb_part_21_09\\data\\train_diamantes.csv') # Datos con el precio\n",
    "df_2 = pd.read_csv(r'C:\\Users\\mario\\OneDrive\\Escritorio\\Bootcamp\\ds_tb_part_21_09\\data\\test_diamantes.csv') # Datos sin el precio\n",
    "df_3 = pd.read_csv(r'C:\\Users\\mario\\OneDrive\\Escritorio\\Bootcamp\\ds_tb_part_21_09\\data\\sample.csv')\n",
    "\n",
    "df.head()"
   ]
  },
  {
   "cell_type": "code",
   "execution_count": 3,
   "id": "904a9db4-bfdb-44f5-817e-e0597df00b86",
   "metadata": {},
   "outputs": [],
   "source": [
    "# Hacemos una copia del dataset original\n",
    "df_train = df.copy()\n",
    "df_test = df_2.copy()\n",
    "df_shample = df_3.copy()"
   ]
  },
  {
   "cell_type": "code",
   "execution_count": 4,
   "id": "1bba3bd5-90a0-4d13-b246-8c65d97be6ad",
   "metadata": {},
   "outputs": [
    {
     "name": "stdout",
     "output_type": "stream",
     "text": [
      "<class 'pandas.core.frame.DataFrame'>\n",
      "RangeIndex: 35940 entries, 0 to 35939\n",
      "Data columns (total 11 columns):\n",
      " #   Column   Non-Null Count  Dtype  \n",
      "---  ------   --------------  -----  \n",
      " 0   carat    35940 non-null  float64\n",
      " 1   cut      35940 non-null  object \n",
      " 2   color    35940 non-null  object \n",
      " 3   clarity  35940 non-null  object \n",
      " 4   depth    35940 non-null  float64\n",
      " 5   table    35940 non-null  float64\n",
      " 6   price    35940 non-null  float64\n",
      " 7   x        35940 non-null  float64\n",
      " 8   y        35940 non-null  float64\n",
      " 9   z        35940 non-null  float64\n",
      " 10  id       35940 non-null  int64  \n",
      "dtypes: float64(7), int64(1), object(3)\n",
      "memory usage: 3.0+ MB\n"
     ]
    }
   ],
   "source": [
    "df_train.info()"
   ]
  },
  {
   "cell_type": "code",
   "execution_count": 5,
   "id": "ccd6b2b3-ea78-457d-a448-fc4419147fee",
   "metadata": {},
   "outputs": [
    {
     "data": {
      "text/plain": [
       "carat      float64\n",
       "cut         object\n",
       "color       object\n",
       "clarity     object\n",
       "depth      float64\n",
       "table      float64\n",
       "price      float64\n",
       "x          float64\n",
       "y          float64\n",
       "z          float64\n",
       "id           int64\n",
       "dtype: object"
      ]
     },
     "execution_count": 5,
     "metadata": {},
     "output_type": "execute_result"
    }
   ],
   "source": [
    "df_train.dtypes"
   ]
  },
  {
   "cell_type": "code",
   "execution_count": 6,
   "id": "fe02f63a-ae67-4c6d-8b06-4893901be2b5",
   "metadata": {},
   "outputs": [
    {
     "data": {
      "text/plain": [
       "Series([], dtype: int64)"
      ]
     },
     "execution_count": 6,
     "metadata": {},
     "output_type": "execute_result"
    }
   ],
   "source": [
    "nan_cols=df_train.isna().sum()\n",
    "\n",
    "nan_cols[nan_cols>0]  # columnas con nulos(No hay)"
   ]
  },
  {
   "cell_type": "code",
   "execution_count": 7,
   "id": "5513f57c-9d90-4e70-98b5-71246da10edf",
   "metadata": {},
   "outputs": [
    {
     "data": {
      "text/plain": [
       "35940"
      ]
     },
     "execution_count": 7,
     "metadata": {},
     "output_type": "execute_result"
    }
   ],
   "source": [
    "len(df_train) # tenemos 35940 filas"
   ]
  },
  {
   "cell_type": "code",
   "execution_count": 95,
   "id": "fa5cf8c0-fdd0-48c0-9dad-2d3656ed7593",
   "metadata": {},
   "outputs": [
    {
     "data": {
      "image/png": "[encoded data removed]",
      "text/plain": [
       "<Figure size 432x288 with 1 Axes>"
      ]
     },
     "metadata": {
      "needs_background": "light"
     },
     "output_type": "display_data"
    }
   ],
   "source": [
    "# Vemos los outliers\n",
    "sns.boxplot(df_train['price']); # Tenemos bastantes outliers, el precio de algunos diamantes están muy por encima de lo normal"
   ]
  },
  {
   "cell_type": "code",
   "execution_count": 79,
   "id": "c911a5e5-70ba-45a9-bd91-e402f41d010b",
   "metadata": {},
   "outputs": [
    {
     "data": {
      "text/plain": [
       "2297"
      ]
     },
     "execution_count": 79,
     "metadata": {},
     "output_type": "execute_result"
    }
   ],
   "source": [
    "# Vemos los outliers\n",
    "Q1 = df_train.price.quantile(.25)\n",
    "Q3 = df_train.price.quantile(.75)\n",
    "IQR = Q3 - Q1\n",
    "\n",
    "outliers = df_train[(df_train.price < Q1-1.5 * IQR)|(df_train.price > Q3+1.5 * IQR)]\n",
    "\n",
    "len(outliers) # Hay 2297 outliers, vamos a probar un modelo con outliers y otro sin estos ya que son datos reales"
   ]
  },
  {
   "cell_type": "markdown",
   "id": "3aab9d74-d1ca-49ab-a0b1-75ab1be78f9d",
   "metadata": {},
   "source": [
    "### Primer modelo con outliers "
   ]
  },
  {
   "cell_type": "code",
   "execution_count": 11,
   "id": "16736835-8e5c-4f66-a525-2265129a161d",
   "metadata": {},
   "outputs": [
    {
     "data": {
      "text/plain": [
       "G    7655\n",
       "E    6513\n",
       "F    6309\n",
       "H    5481\n",
       "D    4448\n",
       "I    3646\n",
       "J    1888\n",
       "Name: color, dtype: int64"
      ]
     },
     "execution_count": 11,
     "metadata": {},
     "output_type": "execute_result"
    }
   ],
   "source": [
    "df_train.color.value_counts()"
   ]
  },
  {
   "cell_type": "code",
   "execution_count": 12,
   "id": "6506f6b6-ad9e-4bfa-9cd9-f0a031d2149d",
   "metadata": {},
   "outputs": [
    {
     "data": {
      "text/plain": [
       "Ideal        14352\n",
       "Premium       9216\n",
       "Very Good     6427\n",
       "Good          3238\n",
       "Very Geod     1627\n",
       "Fair          1080\n",
       "Name: cut, dtype: int64"
      ]
     },
     "execution_count": 12,
     "metadata": {},
     "output_type": "execute_result"
    }
   ],
   "source": [
    "df_train.cut.value_counts() # Hay una errata en Very Geod"
   ]
  },
  {
   "cell_type": "code",
   "execution_count": 13,
   "id": "26adca79-e8cf-4d2b-bddb-a29ad1758392",
   "metadata": {},
   "outputs": [],
   "source": [
    "df_train['cut'] = df_train.cut.replace('Very Geod', 'Very Good')"
   ]
  },
  {
   "cell_type": "code",
   "execution_count": 14,
   "id": "9a4ca2f1-22db-489f-b8f2-c86d34ba28fe",
   "metadata": {},
   "outputs": [
    {
     "data": {
      "text/plain": [
       "Ideal        14352\n",
       "Premium       9216\n",
       "Very Good     8054\n",
       "Good          3238\n",
       "Fair          1080\n",
       "Name: cut, dtype: int64"
      ]
     },
     "execution_count": 14,
     "metadata": {},
     "output_type": "execute_result"
    }
   ],
   "source": [
    "df_train.cut.value_counts() # Corregimos la errata"
   ]
  },
  {
   "cell_type": "code",
   "execution_count": 15,
   "id": "b6752986-9fa8-4229-96ee-80fb34d90f3b",
   "metadata": {},
   "outputs": [
    {
     "data": {
      "text/plain": [
       "SI1     8628\n",
       "VS2     8244\n",
       "SI2     6091\n",
       "VS1     5492\n",
       "VVS2    3326\n",
       "VVS1    2457\n",
       "IF      1217\n",
       "I1       485\n",
       "Name: clarity, dtype: int64"
      ]
     },
     "execution_count": 15,
     "metadata": {},
     "output_type": "execute_result"
    }
   ],
   "source": [
    "df_train.clarity.value_counts()"
   ]
  },
  {
   "cell_type": "code",
   "execution_count": 16,
   "id": "c807a7bc-fffb-46c7-8012-f714c386c3da",
   "metadata": {},
   "outputs": [
    {
     "name": "stdout",
     "output_type": "stream",
     "text": [
      "Is depth\n"
     ]
    }
   ],
   "source": [
    "# Las columnas x, y, z parece que representan la profundidad (comprobamos), la profundidad sería z/((x + y)/2)\n",
    "x = df_train['x'].iloc[0]\n",
    "y = df_train['y'].iloc[0]\n",
    "z = df_train['z'].iloc[0]\n",
    "depth0 = df_train['depth'].iloc[0]\n",
    "\n",
    "if np.round(z/((x+y)/2)*100, 1) == depth0:\n",
    "    print('Is depth')\n",
    "else:\n",
    "    print('Is not depth')\n",
    "    \n",
    "# Efectivamente las columnas x, y, z representan la profundidad que ya la tenemos en el DataSet(eliminamos estas columnas)"
   ]
  },
  {
   "cell_type": "code",
   "execution_count": 17,
   "id": "c73d54d5-7bab-4e12-b183-c87e6c5082d0",
   "metadata": {},
   "outputs": [
    {
     "data": {
      "text/html": [
       "<div>\n",
       "<style scoped>\n",
       "    .dataframe tbody tr th:only-of-type {\n",
       "        vertical-align: middle;\n",
       "    }\n",
       "\n",
       "    .dataframe tbody tr th {\n",
       "        vertical-align: top;\n",
       "    }\n",
       "\n",
       "    .dataframe thead th {\n",
       "        text-align: right;\n",
       "    }\n",
       "</style>\n",
       "<table border=\"1\" class=\"dataframe\">\n",
       "  <thead>\n",
       "    <tr style=\"text-align: right;\">\n",
       "      <th></th>\n",
       "      <th>carat</th>\n",
       "      <th>cut</th>\n",
       "      <th>color</th>\n",
       "      <th>clarity</th>\n",
       "      <th>depth</th>\n",
       "      <th>table</th>\n",
       "      <th>price</th>\n",
       "    </tr>\n",
       "  </thead>\n",
       "  <tbody>\n",
       "    <tr>\n",
       "      <th>0</th>\n",
       "      <td>1.01</td>\n",
       "      <td>Very Good</td>\n",
       "      <td>F</td>\n",
       "      <td>SI2</td>\n",
       "      <td>62.2</td>\n",
       "      <td>58.0</td>\n",
       "      <td>4332.0</td>\n",
       "    </tr>\n",
       "    <tr>\n",
       "      <th>1</th>\n",
       "      <td>0.90</td>\n",
       "      <td>Very Good</td>\n",
       "      <td>I</td>\n",
       "      <td>VS2</td>\n",
       "      <td>61.4</td>\n",
       "      <td>58.0</td>\n",
       "      <td>4089.0</td>\n",
       "    </tr>\n",
       "    <tr>\n",
       "      <th>2</th>\n",
       "      <td>0.53</td>\n",
       "      <td>Ideal</td>\n",
       "      <td>E</td>\n",
       "      <td>VVS2</td>\n",
       "      <td>62.2</td>\n",
       "      <td>54.0</td>\n",
       "      <td>2273.0</td>\n",
       "    </tr>\n",
       "    <tr>\n",
       "      <th>3</th>\n",
       "      <td>0.32</td>\n",
       "      <td>Ideal</td>\n",
       "      <td>I</td>\n",
       "      <td>IF</td>\n",
       "      <td>60.8</td>\n",
       "      <td>54.0</td>\n",
       "      <td>673.0</td>\n",
       "    </tr>\n",
       "    <tr>\n",
       "      <th>4</th>\n",
       "      <td>1.06</td>\n",
       "      <td>Ideal</td>\n",
       "      <td>G</td>\n",
       "      <td>VVS2</td>\n",
       "      <td>61.0</td>\n",
       "      <td>57.0</td>\n",
       "      <td>7900.0</td>\n",
       "    </tr>\n",
       "  </tbody>\n",
       "</table>\n",
       "</div>"
      ],
      "text/plain": [
       "   carat        cut color clarity  depth  table   price\n",
       "0   1.01  Very Good     F     SI2   62.2   58.0  4332.0\n",
       "1   0.90  Very Good     I     VS2   61.4   58.0  4089.0\n",
       "2   0.53      Ideal     E    VVS2   62.2   54.0  2273.0\n",
       "3   0.32      Ideal     I      IF   60.8   54.0   673.0\n",
       "4   1.06      Ideal     G    VVS2   61.0   57.0  7900.0"
      ]
     },
     "execution_count": 17,
     "metadata": {},
     "output_type": "execute_result"
    }
   ],
   "source": [
    "df_train = df_train.drop(['x', 'y', 'z', 'id'], axis = 1) # Eliminamos las columnas que de momento no nos valen\n",
    "\n",
    "df_train.head()"
   ]
  },
  {
   "cell_type": "code",
   "execution_count": 18,
   "id": "521d58b4-a9ed-4296-8c29-53cd9a60da92",
   "metadata": {},
   "outputs": [
    {
     "data": {
      "image/png": "[encoded data removed]",
      "text/plain": [
       "<Figure size 720x720 with 20 Axes>"
      ]
     },
     "metadata": {
      "needs_background": "light"
     },
     "output_type": "display_data"
    }
   ],
   "source": [
    "sns.pairplot(df_train); # Vemos posibles relaciones entre variables"
   ]
  },
  {
   "cell_type": "code",
   "execution_count": 19,
   "id": "191337ac-60dc-4cf3-8fe3-9cc4d9689eaf",
   "metadata": {},
   "outputs": [
    {
     "data": {
      "text/html": [
       "<div>\n",
       "<style scoped>\n",
       "    .dataframe tbody tr th:only-of-type {\n",
       "        vertical-align: middle;\n",
       "    }\n",
       "\n",
       "    .dataframe tbody tr th {\n",
       "        vertical-align: top;\n",
       "    }\n",
       "\n",
       "    .dataframe thead th {\n",
       "        text-align: right;\n",
       "    }\n",
       "</style>\n",
       "<table border=\"1\" class=\"dataframe\">\n",
       "  <thead>\n",
       "    <tr style=\"text-align: right;\">\n",
       "      <th></th>\n",
       "      <th>carat</th>\n",
       "      <th>depth</th>\n",
       "      <th>table</th>\n",
       "      <th>price</th>\n",
       "    </tr>\n",
       "  </thead>\n",
       "  <tbody>\n",
       "    <tr>\n",
       "      <th>count</th>\n",
       "      <td>35940.000000</td>\n",
       "      <td>35940.000000</td>\n",
       "      <td>35940.000000</td>\n",
       "      <td>35940.000000</td>\n",
       "    </tr>\n",
       "    <tr>\n",
       "      <th>mean</th>\n",
       "      <td>0.907500</td>\n",
       "      <td>61.756210</td>\n",
       "      <td>57.461753</td>\n",
       "      <td>3930.117835</td>\n",
       "    </tr>\n",
       "    <tr>\n",
       "      <th>std</th>\n",
       "      <td>2.098015</td>\n",
       "      <td>1.431872</td>\n",
       "      <td>2.240414</td>\n",
       "      <td>3982.706797</td>\n",
       "    </tr>\n",
       "    <tr>\n",
       "      <th>min</th>\n",
       "      <td>0.200000</td>\n",
       "      <td>43.000000</td>\n",
       "      <td>44.000000</td>\n",
       "      <td>326.000000</td>\n",
       "    </tr>\n",
       "    <tr>\n",
       "      <th>25%</th>\n",
       "      <td>0.400000</td>\n",
       "      <td>61.100000</td>\n",
       "      <td>56.000000</td>\n",
       "      <td>949.000000</td>\n",
       "    </tr>\n",
       "    <tr>\n",
       "      <th>50%</th>\n",
       "      <td>0.700000</td>\n",
       "      <td>61.900000</td>\n",
       "      <td>57.000000</td>\n",
       "      <td>2394.000000</td>\n",
       "    </tr>\n",
       "    <tr>\n",
       "      <th>75%</th>\n",
       "      <td>1.050000</td>\n",
       "      <td>62.500000</td>\n",
       "      <td>59.000000</td>\n",
       "      <td>5362.250000</td>\n",
       "    </tr>\n",
       "    <tr>\n",
       "      <th>max</th>\n",
       "      <td>49.990359</td>\n",
       "      <td>79.000000</td>\n",
       "      <td>95.000000</td>\n",
       "      <td>18823.000000</td>\n",
       "    </tr>\n",
       "  </tbody>\n",
       "</table>\n",
       "</div>"
      ],
      "text/plain": [
       "              carat         depth         table         price\n",
       "count  35940.000000  35940.000000  35940.000000  35940.000000\n",
       "mean       0.907500     61.756210     57.461753   3930.117835\n",
       "std        2.098015      1.431872      2.240414   3982.706797\n",
       "min        0.200000     43.000000     44.000000    326.000000\n",
       "25%        0.400000     61.100000     56.000000    949.000000\n",
       "50%        0.700000     61.900000     57.000000   2394.000000\n",
       "75%        1.050000     62.500000     59.000000   5362.250000\n",
       "max       49.990359     79.000000     95.000000  18823.000000"
      ]
     },
     "execution_count": 19,
     "metadata": {},
     "output_type": "execute_result"
    }
   ],
   "source": [
    "df_train.describe()"
   ]
  },
  {
   "cell_type": "code",
   "execution_count": 20,
   "id": "db480a2e-f4ec-4b5a-94ab-d656e449bfeb",
   "metadata": {},
   "outputs": [
    {
     "name": "stdout",
     "output_type": "stream",
     "text": [
      "79.0 , 43.0\n"
     ]
    }
   ],
   "source": [
    "print(np.max(df_train.depth), ',',np.min(df_train.depth)) # Están en porcentaje estos datos, dividimos la columna entre 100 para normalizarla"
   ]
  },
  {
   "cell_type": "code",
   "execution_count": 21,
   "id": "5d37aa9f-66c6-47b9-accc-3013aaf488b4",
   "metadata": {},
   "outputs": [
    {
     "data": {
      "text/html": [
       "<div>\n",
       "<style scoped>\n",
       "    .dataframe tbody tr th:only-of-type {\n",
       "        vertical-align: middle;\n",
       "    }\n",
       "\n",
       "    .dataframe tbody tr th {\n",
       "        vertical-align: top;\n",
       "    }\n",
       "\n",
       "    .dataframe thead th {\n",
       "        text-align: right;\n",
       "    }\n",
       "</style>\n",
       "<table border=\"1\" class=\"dataframe\">\n",
       "  <thead>\n",
       "    <tr style=\"text-align: right;\">\n",
       "      <th></th>\n",
       "      <th>carat</th>\n",
       "      <th>cut</th>\n",
       "      <th>color</th>\n",
       "      <th>clarity</th>\n",
       "      <th>depth</th>\n",
       "      <th>table</th>\n",
       "      <th>price</th>\n",
       "    </tr>\n",
       "  </thead>\n",
       "  <tbody>\n",
       "    <tr>\n",
       "      <th>0</th>\n",
       "      <td>1.01</td>\n",
       "      <td>Very Good</td>\n",
       "      <td>F</td>\n",
       "      <td>SI2</td>\n",
       "      <td>0.622</td>\n",
       "      <td>58.0</td>\n",
       "      <td>4332.0</td>\n",
       "    </tr>\n",
       "    <tr>\n",
       "      <th>1</th>\n",
       "      <td>0.90</td>\n",
       "      <td>Very Good</td>\n",
       "      <td>I</td>\n",
       "      <td>VS2</td>\n",
       "      <td>0.614</td>\n",
       "      <td>58.0</td>\n",
       "      <td>4089.0</td>\n",
       "    </tr>\n",
       "    <tr>\n",
       "      <th>2</th>\n",
       "      <td>0.53</td>\n",
       "      <td>Ideal</td>\n",
       "      <td>E</td>\n",
       "      <td>VVS2</td>\n",
       "      <td>0.622</td>\n",
       "      <td>54.0</td>\n",
       "      <td>2273.0</td>\n",
       "    </tr>\n",
       "    <tr>\n",
       "      <th>3</th>\n",
       "      <td>0.32</td>\n",
       "      <td>Ideal</td>\n",
       "      <td>I</td>\n",
       "      <td>IF</td>\n",
       "      <td>0.608</td>\n",
       "      <td>54.0</td>\n",
       "      <td>673.0</td>\n",
       "    </tr>\n",
       "    <tr>\n",
       "      <th>4</th>\n",
       "      <td>1.06</td>\n",
       "      <td>Ideal</td>\n",
       "      <td>G</td>\n",
       "      <td>VVS2</td>\n",
       "      <td>0.610</td>\n",
       "      <td>57.0</td>\n",
       "      <td>7900.0</td>\n",
       "    </tr>\n",
       "  </tbody>\n",
       "</table>\n",
       "</div>"
      ],
      "text/plain": [
       "   carat        cut color clarity  depth  table   price\n",
       "0   1.01  Very Good     F     SI2  0.622   58.0  4332.0\n",
       "1   0.90  Very Good     I     VS2  0.614   58.0  4089.0\n",
       "2   0.53      Ideal     E    VVS2  0.622   54.0  2273.0\n",
       "3   0.32      Ideal     I      IF  0.608   54.0   673.0\n",
       "4   1.06      Ideal     G    VVS2  0.610   57.0  7900.0"
      ]
     },
     "execution_count": 21,
     "metadata": {},
     "output_type": "execute_result"
    }
   ],
   "source": [
    "df_train['depth'] = df_train.depth.apply(lambda x: x/100)\n",
    "\n",
    "df_train.head() # La columna depth la tenemos normalizada"
   ]
  },
  {
   "cell_type": "code",
   "execution_count": 22,
   "id": "e6395361-5a5b-4752-b470-23abd615909d",
   "metadata": {},
   "outputs": [
    {
     "data": {
      "text/plain": [
       "' Parece que las variables están muy poco correlacionadas entre si, quizás un poco más la profundidad con la tabla que es la parte de arriba del diamante\\n    Lo que está claro es que los quilates es lo más representativo del precio'"
      ]
     },
     "execution_count": 22,
     "metadata": {},
     "output_type": "execute_result"
    },
    {
     "data": {
      "image/png": "[encoded data removed]",
      "text/plain": [
       "<Figure size 432x288 with 2 Axes>"
      ]
     },
     "metadata": {},
     "output_type": "display_data"
    }
   ],
   "source": [
    "# Vamos a ver correlacioens entre variables numéricas, vemos colinealidad\n",
    "corr = df_train[['carat', 'depth', 'table', 'price']].corr(method='pearson')\n",
    "\n",
    "sns.set(style='white')  # estilo blanco\n",
    "\n",
    "mask=np.triu(np.ones_like(corr, dtype=bool)) # genera una mascara para ocultar la triangular superior\n",
    "\n",
    "cmap=sns.diverging_palette(0, 10, as_cmap=True) # paleta de colores con degradado\n",
    "\n",
    "\n",
    "# heatmap o mapa de calor\n",
    "\n",
    "sns.heatmap(corr,\n",
    "            mask=mask,\n",
    "            cmap=cmap,\n",
    "            vmax=0.5,\n",
    "            center=0, \n",
    "            square=True,\n",
    "            linewidths=.5,\n",
    "            cbar_kws={'shrink': .5},\n",
    "            annot=True);\n",
    "\n",
    "''' Parece que las variables están muy poco correlacionadas entre si, quizás un poco más la profundidad con la tabla que es la parte de arriba del diamante\n",
    "    Lo que está claro es que los quilates es lo más representativo del precio'''"
   ]
  },
  {
   "cell_type": "code",
   "execution_count": 23,
   "id": "891d5159-a989-4255-afd2-55f0ad592e1d",
   "metadata": {},
   "outputs": [
    {
     "name": "stdout",
     "output_type": "stream",
     "text": [
      "95.0 , 44.0\n"
     ]
    }
   ],
   "source": [
    "# Vemos si table también es una variable que está representada en porcentaje\n",
    "print(np.max(df_train.table), ',',np.min(df_train.table)) "
   ]
  },
  {
   "cell_type": "code",
   "execution_count": 24,
   "id": "ed3c9aeb-24dd-48aa-9ccf-c697034fe6e1",
   "metadata": {},
   "outputs": [
    {
     "data": {
      "text/html": [
       "<div>\n",
       "<style scoped>\n",
       "    .dataframe tbody tr th:only-of-type {\n",
       "        vertical-align: middle;\n",
       "    }\n",
       "\n",
       "    .dataframe tbody tr th {\n",
       "        vertical-align: top;\n",
       "    }\n",
       "\n",
       "    .dataframe thead th {\n",
       "        text-align: right;\n",
       "    }\n",
       "</style>\n",
       "<table border=\"1\" class=\"dataframe\">\n",
       "  <thead>\n",
       "    <tr style=\"text-align: right;\">\n",
       "      <th></th>\n",
       "      <th>carat</th>\n",
       "      <th>cut</th>\n",
       "      <th>color</th>\n",
       "      <th>clarity</th>\n",
       "      <th>depth</th>\n",
       "      <th>table</th>\n",
       "      <th>price</th>\n",
       "    </tr>\n",
       "  </thead>\n",
       "  <tbody>\n",
       "    <tr>\n",
       "      <th>0</th>\n",
       "      <td>1.01</td>\n",
       "      <td>Very Good</td>\n",
       "      <td>F</td>\n",
       "      <td>SI2</td>\n",
       "      <td>0.622</td>\n",
       "      <td>0.58</td>\n",
       "      <td>4332.0</td>\n",
       "    </tr>\n",
       "    <tr>\n",
       "      <th>1</th>\n",
       "      <td>0.90</td>\n",
       "      <td>Very Good</td>\n",
       "      <td>I</td>\n",
       "      <td>VS2</td>\n",
       "      <td>0.614</td>\n",
       "      <td>0.58</td>\n",
       "      <td>4089.0</td>\n",
       "    </tr>\n",
       "    <tr>\n",
       "      <th>2</th>\n",
       "      <td>0.53</td>\n",
       "      <td>Ideal</td>\n",
       "      <td>E</td>\n",
       "      <td>VVS2</td>\n",
       "      <td>0.622</td>\n",
       "      <td>0.54</td>\n",
       "      <td>2273.0</td>\n",
       "    </tr>\n",
       "    <tr>\n",
       "      <th>3</th>\n",
       "      <td>0.32</td>\n",
       "      <td>Ideal</td>\n",
       "      <td>I</td>\n",
       "      <td>IF</td>\n",
       "      <td>0.608</td>\n",
       "      <td>0.54</td>\n",
       "      <td>673.0</td>\n",
       "    </tr>\n",
       "    <tr>\n",
       "      <th>4</th>\n",
       "      <td>1.06</td>\n",
       "      <td>Ideal</td>\n",
       "      <td>G</td>\n",
       "      <td>VVS2</td>\n",
       "      <td>0.610</td>\n",
       "      <td>0.57</td>\n",
       "      <td>7900.0</td>\n",
       "    </tr>\n",
       "  </tbody>\n",
       "</table>\n",
       "</div>"
      ],
      "text/plain": [
       "   carat        cut color clarity  depth  table   price\n",
       "0   1.01  Very Good     F     SI2  0.622   0.58  4332.0\n",
       "1   0.90  Very Good     I     VS2  0.614   0.58  4089.0\n",
       "2   0.53      Ideal     E    VVS2  0.622   0.54  2273.0\n",
       "3   0.32      Ideal     I      IF  0.608   0.54   673.0\n",
       "4   1.06      Ideal     G    VVS2  0.610   0.57  7900.0"
      ]
     },
     "execution_count": 24,
     "metadata": {},
     "output_type": "execute_result"
    }
   ],
   "source": [
    "# Normalizamos la variabletable dividiéndola entre 100\n",
    "df_train['table'] = df_train.table.apply(lambda x: x/100)\n",
    "\n",
    "df_train.head() # La columna table la tenemos normalizada"
   ]
  },
  {
   "cell_type": "code",
   "execution_count": 25,
   "id": "310d42fd-fb22-4299-bd42-d321478e026a",
   "metadata": {},
   "outputs": [
    {
     "data": {
      "text/plain": [
       "(49.9903589324094, 0.2)"
      ]
     },
     "execution_count": 25,
     "metadata": {},
     "output_type": "execute_result"
    }
   ],
   "source": [
    "# Vamos a normalizar los quilates dividiendo toda la columna entre su máximo\n",
    "np.max(df_train.carat), np.min(df_train.carat)"
   ]
  },
  {
   "cell_type": "code",
   "execution_count": 26,
   "id": "c58a96b3-8fe9-45ba-b5f1-a6e07dc196a9",
   "metadata": {},
   "outputs": [
    {
     "data": {
      "text/html": [
       "<div>\n",
       "<style scoped>\n",
       "    .dataframe tbody tr th:only-of-type {\n",
       "        vertical-align: middle;\n",
       "    }\n",
       "\n",
       "    .dataframe tbody tr th {\n",
       "        vertical-align: top;\n",
       "    }\n",
       "\n",
       "    .dataframe thead th {\n",
       "        text-align: right;\n",
       "    }\n",
       "</style>\n",
       "<table border=\"1\" class=\"dataframe\">\n",
       "  <thead>\n",
       "    <tr style=\"text-align: right;\">\n",
       "      <th></th>\n",
       "      <th>carat</th>\n",
       "      <th>cut</th>\n",
       "      <th>color</th>\n",
       "      <th>clarity</th>\n",
       "      <th>depth</th>\n",
       "      <th>table</th>\n",
       "      <th>price</th>\n",
       "    </tr>\n",
       "  </thead>\n",
       "  <tbody>\n",
       "    <tr>\n",
       "      <th>0</th>\n",
       "      <td>0.020204</td>\n",
       "      <td>Very Good</td>\n",
       "      <td>F</td>\n",
       "      <td>SI2</td>\n",
       "      <td>0.622</td>\n",
       "      <td>0.58</td>\n",
       "      <td>4332.0</td>\n",
       "    </tr>\n",
       "    <tr>\n",
       "      <th>1</th>\n",
       "      <td>0.018003</td>\n",
       "      <td>Very Good</td>\n",
       "      <td>I</td>\n",
       "      <td>VS2</td>\n",
       "      <td>0.614</td>\n",
       "      <td>0.58</td>\n",
       "      <td>4089.0</td>\n",
       "    </tr>\n",
       "    <tr>\n",
       "      <th>2</th>\n",
       "      <td>0.010602</td>\n",
       "      <td>Ideal</td>\n",
       "      <td>E</td>\n",
       "      <td>VVS2</td>\n",
       "      <td>0.622</td>\n",
       "      <td>0.54</td>\n",
       "      <td>2273.0</td>\n",
       "    </tr>\n",
       "    <tr>\n",
       "      <th>3</th>\n",
       "      <td>0.006401</td>\n",
       "      <td>Ideal</td>\n",
       "      <td>I</td>\n",
       "      <td>IF</td>\n",
       "      <td>0.608</td>\n",
       "      <td>0.54</td>\n",
       "      <td>673.0</td>\n",
       "    </tr>\n",
       "    <tr>\n",
       "      <th>4</th>\n",
       "      <td>0.021204</td>\n",
       "      <td>Ideal</td>\n",
       "      <td>G</td>\n",
       "      <td>VVS2</td>\n",
       "      <td>0.610</td>\n",
       "      <td>0.57</td>\n",
       "      <td>7900.0</td>\n",
       "    </tr>\n",
       "    <tr>\n",
       "      <th>...</th>\n",
       "      <td>...</td>\n",
       "      <td>...</td>\n",
       "      <td>...</td>\n",
       "      <td>...</td>\n",
       "      <td>...</td>\n",
       "      <td>...</td>\n",
       "      <td>...</td>\n",
       "    </tr>\n",
       "    <tr>\n",
       "      <th>35935</th>\n",
       "      <td>0.006201</td>\n",
       "      <td>Ideal</td>\n",
       "      <td>F</td>\n",
       "      <td>VS1</td>\n",
       "      <td>0.616</td>\n",
       "      <td>0.56</td>\n",
       "      <td>695.0</td>\n",
       "    </tr>\n",
       "    <tr>\n",
       "      <th>35936</th>\n",
       "      <td>0.007001</td>\n",
       "      <td>Very Good</td>\n",
       "      <td>E</td>\n",
       "      <td>SI1</td>\n",
       "      <td>0.629</td>\n",
       "      <td>0.58</td>\n",
       "      <td>614.0</td>\n",
       "    </tr>\n",
       "    <tr>\n",
       "      <th>35937</th>\n",
       "      <td>0.009202</td>\n",
       "      <td>Ideal</td>\n",
       "      <td>F</td>\n",
       "      <td>SI2</td>\n",
       "      <td>0.615</td>\n",
       "      <td>0.54</td>\n",
       "      <td>758.0</td>\n",
       "    </tr>\n",
       "    <tr>\n",
       "      <th>35938</th>\n",
       "      <td>0.006201</td>\n",
       "      <td>Ideal</td>\n",
       "      <td>E</td>\n",
       "      <td>VS1</td>\n",
       "      <td>0.616</td>\n",
       "      <td>0.56</td>\n",
       "      <td>734.0</td>\n",
       "    </tr>\n",
       "    <tr>\n",
       "      <th>35939</th>\n",
       "      <td>0.044409</td>\n",
       "      <td>Premium</td>\n",
       "      <td>I</td>\n",
       "      <td>VS2</td>\n",
       "      <td>0.605</td>\n",
       "      <td>0.59</td>\n",
       "      <td>14662.0</td>\n",
       "    </tr>\n",
       "  </tbody>\n",
       "</table>\n",
       "<p>35940 rows × 7 columns</p>\n",
       "</div>"
      ],
      "text/plain": [
       "          carat        cut color clarity  depth  table    price\n",
       "0      0.020204  Very Good     F     SI2  0.622   0.58   4332.0\n",
       "1      0.018003  Very Good     I     VS2  0.614   0.58   4089.0\n",
       "2      0.010602      Ideal     E    VVS2  0.622   0.54   2273.0\n",
       "3      0.006401      Ideal     I      IF  0.608   0.54    673.0\n",
       "4      0.021204      Ideal     G    VVS2  0.610   0.57   7900.0\n",
       "...         ...        ...   ...     ...    ...    ...      ...\n",
       "35935  0.006201      Ideal     F     VS1  0.616   0.56    695.0\n",
       "35936  0.007001  Very Good     E     SI1  0.629   0.58    614.0\n",
       "35937  0.009202      Ideal     F     SI2  0.615   0.54    758.0\n",
       "35938  0.006201      Ideal     E     VS1  0.616   0.56    734.0\n",
       "35939  0.044409    Premium     I     VS2  0.605   0.59  14662.0\n",
       "\n",
       "[35940 rows x 7 columns]"
      ]
     },
     "execution_count": 26,
     "metadata": {},
     "output_type": "execute_result"
    }
   ],
   "source": [
    "df_train['carat'] = df_train.carat.apply(lambda x: x/np.max(df_train.carat))\n",
    "\n",
    "df_train"
   ]
  },
  {
   "cell_type": "code",
   "execution_count": 61,
   "id": "4adb3715-b09e-4292-b383-c8880264a9c4",
   "metadata": {},
   "outputs": [],
   "source": [
    "# Vamos a darle valores a las categorías en función de como afectan al precio\n",
    "def cut(e):\n",
    "    if e==\"Ideal\":\n",
    "        return 0.95\n",
    "    elif e==\"Premium\":\n",
    "        return 1\n",
    "    elif e==\"Very Good\":\n",
    "        return 0.8\n",
    "    elif e==\"Good\":\n",
    "        return 0.5\n",
    "    elif e==\"Fair\":\n",
    "        return 0.1\n",
    "    else:\n",
    "        pass\n",
    "    return e"
   ]
  },
  {
   "cell_type": "code",
   "execution_count": 62,
   "id": "ffb5a4e9-b0e7-4178-92ad-356ffb4ca3d1",
   "metadata": {},
   "outputs": [],
   "source": [
    "# Vamos a darle valores a los colores en función de como afectan al precio\n",
    "def color(e):\n",
    "    if e==\"D\":\n",
    "        return 1\n",
    "    elif e==\"E\":\n",
    "        return 0.85\n",
    "    elif e==\"F\":\n",
    "        return 0.91\n",
    "    elif e==\"G\":\n",
    "        return 0.8\n",
    "    elif e==\"H\":\n",
    "        return 0.76\n",
    "    elif e==\"I\":\n",
    "        return 0.5\n",
    "    elif e==\"J\":\n",
    "        return 0.1\n",
    "    else:\n",
    "        pass\n",
    "    return e"
   ]
  },
  {
   "cell_type": "code",
   "execution_count": 63,
   "id": "9cbc14a0-f4a9-48d2-8916-391af1bbd626",
   "metadata": {},
   "outputs": [],
   "source": [
    "# Vamos a darle valores a la claridad en función de como afectan al precio\n",
    "def claridad(e):\n",
    "    if e==\"IF\":\n",
    "        return 1\n",
    "    elif e==\"VVS1\":\n",
    "        return 0.87\n",
    "    elif e==\"VVS2\":\n",
    "        return 0.78\n",
    "    elif e==\"VS1\":\n",
    "        return 0.65\n",
    "    elif e==\"VS2\":\n",
    "        return 0.5\n",
    "    elif e==\"SI1\":\n",
    "        return 0.25\n",
    "    elif e==\"SI2\":\n",
    "        return 0.2\n",
    "    elif e==\"I1\":\n",
    "        return 0.1\n",
    "    else:\n",
    "        pass\n",
    "    return e"
   ]
  },
  {
   "cell_type": "code",
   "execution_count": 64,
   "id": "99b1815f-e7ce-4820-b0c9-b232e2aaf5c0",
   "metadata": {},
   "outputs": [],
   "source": [
    "# Aplicamos a la base de datos\n",
    "df_train[\"cut\"]=df_train[\"cut\"].apply(cut)\n",
    "df_train[\"color\"]=df_train[\"color\"].apply(color)\n",
    "df_train[\"clarity\"]=df_train[\"clarity\"].apply(claridad)"
   ]
  },
  {
   "cell_type": "code",
   "execution_count": 65,
   "id": "10e27a11-80ba-4a7a-9066-c54e5eda6c81",
   "metadata": {},
   "outputs": [
    {
     "data": {
      "text/html": [
       "<div>\n",
       "<style scoped>\n",
       "    .dataframe tbody tr th:only-of-type {\n",
       "        vertical-align: middle;\n",
       "    }\n",
       "\n",
       "    .dataframe tbody tr th {\n",
       "        vertical-align: top;\n",
       "    }\n",
       "\n",
       "    .dataframe thead th {\n",
       "        text-align: right;\n",
       "    }\n",
       "</style>\n",
       "<table border=\"1\" class=\"dataframe\">\n",
       "  <thead>\n",
       "    <tr style=\"text-align: right;\">\n",
       "      <th></th>\n",
       "      <th>carat</th>\n",
       "      <th>cut</th>\n",
       "      <th>color</th>\n",
       "      <th>clarity</th>\n",
       "      <th>depth</th>\n",
       "      <th>table</th>\n",
       "      <th>price</th>\n",
       "    </tr>\n",
       "  </thead>\n",
       "  <tbody>\n",
       "    <tr>\n",
       "      <th>0</th>\n",
       "      <td>0.020204</td>\n",
       "      <td>0.80</td>\n",
       "      <td>0.91</td>\n",
       "      <td>0.20</td>\n",
       "      <td>0.622</td>\n",
       "      <td>0.58</td>\n",
       "      <td>4332.0</td>\n",
       "    </tr>\n",
       "    <tr>\n",
       "      <th>1</th>\n",
       "      <td>0.018003</td>\n",
       "      <td>0.80</td>\n",
       "      <td>0.50</td>\n",
       "      <td>0.50</td>\n",
       "      <td>0.614</td>\n",
       "      <td>0.58</td>\n",
       "      <td>4089.0</td>\n",
       "    </tr>\n",
       "    <tr>\n",
       "      <th>2</th>\n",
       "      <td>0.010602</td>\n",
       "      <td>0.95</td>\n",
       "      <td>0.85</td>\n",
       "      <td>0.78</td>\n",
       "      <td>0.622</td>\n",
       "      <td>0.54</td>\n",
       "      <td>2273.0</td>\n",
       "    </tr>\n",
       "    <tr>\n",
       "      <th>3</th>\n",
       "      <td>0.006401</td>\n",
       "      <td>0.95</td>\n",
       "      <td>0.50</td>\n",
       "      <td>1.00</td>\n",
       "      <td>0.608</td>\n",
       "      <td>0.54</td>\n",
       "      <td>673.0</td>\n",
       "    </tr>\n",
       "    <tr>\n",
       "      <th>4</th>\n",
       "      <td>0.021204</td>\n",
       "      <td>0.95</td>\n",
       "      <td>0.80</td>\n",
       "      <td>0.78</td>\n",
       "      <td>0.610</td>\n",
       "      <td>0.57</td>\n",
       "      <td>7900.0</td>\n",
       "    </tr>\n",
       "  </tbody>\n",
       "</table>\n",
       "</div>"
      ],
      "text/plain": [
       "      carat   cut  color  clarity  depth  table   price\n",
       "0  0.020204  0.80   0.91     0.20  0.622   0.58  4332.0\n",
       "1  0.018003  0.80   0.50     0.50  0.614   0.58  4089.0\n",
       "2  0.010602  0.95   0.85     0.78  0.622   0.54  2273.0\n",
       "3  0.006401  0.95   0.50     1.00  0.608   0.54   673.0\n",
       "4  0.021204  0.95   0.80     0.78  0.610   0.57  7900.0"
      ]
     },
     "execution_count": 65,
     "metadata": {},
     "output_type": "execute_result"
    }
   ],
   "source": [
    "df_train.head()"
   ]
  },
  {
   "cell_type": "code",
   "execution_count": 66,
   "id": "c9b728b5-1a4f-4edc-a174-94846ad9bad3",
   "metadata": {},
   "outputs": [],
   "source": [
    "# Aplicamos el modelo Random Forest\n",
    "X = df_train.drop(columns = ['price'])\n",
    "y = df_train.price"
   ]
  },
  {
   "cell_type": "code",
   "execution_count": 67,
   "id": "b78356fc-b441-43f5-b82b-24bb612c585a",
   "metadata": {},
   "outputs": [],
   "source": [
    "from sklearn.model_selection import train_test_split as tts\n",
    "\n",
    "X_train, X_test, y_train, y_test = tts(X, y, test_size=0.2, random_state=42)"
   ]
  },
  {
   "cell_type": "code",
   "execution_count": 68,
   "id": "9d266e5b-be59-4346-9ca1-8cb0f1db6d45",
   "metadata": {},
   "outputs": [
    {
     "data": {
      "text/plain": [
       "(0.9965252356164621, 0.9750992960669994)"
      ]
     },
     "execution_count": 68,
     "metadata": {},
     "output_type": "execute_result"
    }
   ],
   "source": [
    "from sklearn.ensemble import RandomForestRegressor as RFR\n",
    "\n",
    "rfr=RFR()\n",
    "rfr.fit(X_train, y_train) # Entrenamos el modelo\n",
    "\n",
    "train_score=rfr.score(X_train, y_train)  # R2 score\n",
    "test_score=rfr.score(X_test, y_test)\n",
    "\n",
    "\n",
    "train_score, test_score # Hay algo de Overfitting (no demasiado)"
   ]
  },
  {
   "cell_type": "code",
   "execution_count": 69,
   "id": "ce9b4095-0d3c-4f27-a9a6-983f020df886",
   "metadata": {},
   "outputs": [],
   "source": [
    "# Hacemos la predicción\n",
    "y_pred=rfr.predict(X_test)"
   ]
  },
  {
   "cell_type": "code",
   "execution_count": 70,
   "id": "c59ef1bf-33ed-4846-8e42-1516d8769d74",
   "metadata": {},
   "outputs": [
    {
     "name": "stdout",
     "output_type": "stream",
     "text": [
      "Error absoluto medio: 297.03 grados.\n"
     ]
    }
   ],
   "source": [
    "# Sacamos el Error absoluto medio\n",
    "errors = abs(y_pred - y_test)\n",
    "print('Error absoluto medio:', round(np.mean(errors), 2), 'grados.')"
   ]
  },
  {
   "cell_type": "code",
   "execution_count": 71,
   "id": "a60f8dc1-4e09-4ead-b35a-8a168ba49bea",
   "metadata": {},
   "outputs": [
    {
     "name": "stdout",
     "output_type": "stream",
     "text": [
      "Accuracy: 90.59 %.\n"
     ]
    }
   ],
   "source": [
    "# Sacamos el porcentaje de acierto del modelo\n",
    "mape = 100 * (errors / y_test)\n",
    "accuracy = 100 - np.mean(mape)\n",
    "print('Accuracy:', round(accuracy, 2), '%.')"
   ]
  },
  {
   "cell_type": "code",
   "execution_count": 72,
   "id": "4dfad95b-d8b3-49f8-a7d3-376313edd33b",
   "metadata": {},
   "outputs": [
    {
     "data": {
      "text/plain": [
       "609.807303044409"
      ]
     },
     "execution_count": 72,
     "metadata": {},
     "output_type": "execute_result"
    }
   ],
   "source": [
    "# Sacamos el error cuadrático medio\n",
    "from sklearn.metrics import mean_squared_error\n",
    "\n",
    "rms = mean_squared_error(y_test, y_pred, squared=False)\n",
    "\n",
    "rms"
   ]
  },
  {
   "cell_type": "code",
   "execution_count": 39,
   "id": "cc6d8661-7d26-4de3-badb-fac4111fc371",
   "metadata": {},
   "outputs": [
    {
     "data": {
      "text/plain": [
       "(12000, 12000)"
      ]
     },
     "execution_count": 39,
     "metadata": {},
     "output_type": "execute_result"
    }
   ],
   "source": [
    "# Vamos a transformar los datos del test para utilizarlos para predecir\n",
    "len(df_test), len(df_shample)"
   ]
  },
  {
   "cell_type": "code",
   "execution_count": 40,
   "id": "11272cbc-f84a-4248-be24-b523ae977be6",
   "metadata": {},
   "outputs": [
    {
     "data": {
      "text/html": [
       "<div>\n",
       "<style scoped>\n",
       "    .dataframe tbody tr th:only-of-type {\n",
       "        vertical-align: middle;\n",
       "    }\n",
       "\n",
       "    .dataframe tbody tr th {\n",
       "        vertical-align: top;\n",
       "    }\n",
       "\n",
       "    .dataframe thead th {\n",
       "        text-align: right;\n",
       "    }\n",
       "</style>\n",
       "<table border=\"1\" class=\"dataframe\">\n",
       "  <thead>\n",
       "    <tr style=\"text-align: right;\">\n",
       "      <th></th>\n",
       "      <th>carat</th>\n",
       "      <th>cut</th>\n",
       "      <th>color</th>\n",
       "      <th>clarity</th>\n",
       "      <th>depth</th>\n",
       "      <th>table</th>\n",
       "      <th>x</th>\n",
       "      <th>y</th>\n",
       "      <th>z</th>\n",
       "      <th>id</th>\n",
       "    </tr>\n",
       "  </thead>\n",
       "  <tbody>\n",
       "    <tr>\n",
       "      <th>0</th>\n",
       "      <td>0.70</td>\n",
       "      <td>Good</td>\n",
       "      <td>J</td>\n",
       "      <td>VVS2</td>\n",
       "      <td>64.3</td>\n",
       "      <td>56.0</td>\n",
       "      <td>5.57</td>\n",
       "      <td>5.63</td>\n",
       "      <td>3.60</td>\n",
       "      <td>0</td>\n",
       "    </tr>\n",
       "    <tr>\n",
       "      <th>1</th>\n",
       "      <td>0.31</td>\n",
       "      <td>Premium</td>\n",
       "      <td>E</td>\n",
       "      <td>VVS2</td>\n",
       "      <td>61.9</td>\n",
       "      <td>58.0</td>\n",
       "      <td>4.38</td>\n",
       "      <td>4.35</td>\n",
       "      <td>2.70</td>\n",
       "      <td>1</td>\n",
       "    </tr>\n",
       "    <tr>\n",
       "      <th>2</th>\n",
       "      <td>0.84</td>\n",
       "      <td>Premium</td>\n",
       "      <td>F</td>\n",
       "      <td>SI1</td>\n",
       "      <td>59.0</td>\n",
       "      <td>59.0</td>\n",
       "      <td>6.18</td>\n",
       "      <td>6.13</td>\n",
       "      <td>3.63</td>\n",
       "      <td>2</td>\n",
       "    </tr>\n",
       "    <tr>\n",
       "      <th>3</th>\n",
       "      <td>1.03</td>\n",
       "      <td>Fair</td>\n",
       "      <td>E</td>\n",
       "      <td>SI1</td>\n",
       "      <td>65.1</td>\n",
       "      <td>58.0</td>\n",
       "      <td>6.35</td>\n",
       "      <td>6.24</td>\n",
       "      <td>4.10</td>\n",
       "      <td>3</td>\n",
       "    </tr>\n",
       "    <tr>\n",
       "      <th>4</th>\n",
       "      <td>1.20</td>\n",
       "      <td>Premium</td>\n",
       "      <td>J</td>\n",
       "      <td>SI1</td>\n",
       "      <td>60.5</td>\n",
       "      <td>59.0</td>\n",
       "      <td>6.84</td>\n",
       "      <td>6.79</td>\n",
       "      <td>4.12</td>\n",
       "      <td>4</td>\n",
       "    </tr>\n",
       "  </tbody>\n",
       "</table>\n",
       "</div>"
      ],
      "text/plain": [
       "   carat      cut color clarity  depth  table     x     y     z  id\n",
       "0   0.70     Good     J    VVS2   64.3   56.0  5.57  5.63  3.60   0\n",
       "1   0.31  Premium     E    VVS2   61.9   58.0  4.38  4.35  2.70   1\n",
       "2   0.84  Premium     F     SI1   59.0   59.0  6.18  6.13  3.63   2\n",
       "3   1.03     Fair     E     SI1   65.1   58.0  6.35  6.24  4.10   3\n",
       "4   1.20  Premium     J     SI1   60.5   59.0  6.84  6.79  4.12   4"
      ]
     },
     "execution_count": 40,
     "metadata": {},
     "output_type": "execute_result"
    }
   ],
   "source": [
    "df_test.head()"
   ]
  },
  {
   "cell_type": "code",
   "execution_count": 41,
   "id": "f06f6e7a-5471-4f96-aca8-1c93f282d7b8",
   "metadata": {},
   "outputs": [
    {
     "data": {
      "text/html": [
       "<div>\n",
       "<style scoped>\n",
       "    .dataframe tbody tr th:only-of-type {\n",
       "        vertical-align: middle;\n",
       "    }\n",
       "\n",
       "    .dataframe tbody tr th {\n",
       "        vertical-align: top;\n",
       "    }\n",
       "\n",
       "    .dataframe thead th {\n",
       "        text-align: right;\n",
       "    }\n",
       "</style>\n",
       "<table border=\"1\" class=\"dataframe\">\n",
       "  <thead>\n",
       "    <tr style=\"text-align: right;\">\n",
       "      <th></th>\n",
       "      <th>carat</th>\n",
       "      <th>cut</th>\n",
       "      <th>color</th>\n",
       "      <th>clarity</th>\n",
       "      <th>depth</th>\n",
       "      <th>table</th>\n",
       "    </tr>\n",
       "  </thead>\n",
       "  <tbody>\n",
       "    <tr>\n",
       "      <th>0</th>\n",
       "      <td>0.014504</td>\n",
       "      <td>0.5</td>\n",
       "      <td>0.00</td>\n",
       "      <td>0.78</td>\n",
       "      <td>0.643</td>\n",
       "      <td>0.56</td>\n",
       "    </tr>\n",
       "    <tr>\n",
       "      <th>1</th>\n",
       "      <td>0.006423</td>\n",
       "      <td>1.0</td>\n",
       "      <td>0.85</td>\n",
       "      <td>0.78</td>\n",
       "      <td>0.619</td>\n",
       "      <td>0.58</td>\n",
       "    </tr>\n",
       "    <tr>\n",
       "      <th>2</th>\n",
       "      <td>0.017405</td>\n",
       "      <td>1.0</td>\n",
       "      <td>0.91</td>\n",
       "      <td>0.25</td>\n",
       "      <td>0.590</td>\n",
       "      <td>0.59</td>\n",
       "    </tr>\n",
       "    <tr>\n",
       "      <th>3</th>\n",
       "      <td>0.021342</td>\n",
       "      <td>0.0</td>\n",
       "      <td>0.85</td>\n",
       "      <td>0.25</td>\n",
       "      <td>0.651</td>\n",
       "      <td>0.58</td>\n",
       "    </tr>\n",
       "    <tr>\n",
       "      <th>4</th>\n",
       "      <td>0.024864</td>\n",
       "      <td>1.0</td>\n",
       "      <td>0.00</td>\n",
       "      <td>0.25</td>\n",
       "      <td>0.605</td>\n",
       "      <td>0.59</td>\n",
       "    </tr>\n",
       "  </tbody>\n",
       "</table>\n",
       "</div>"
      ],
      "text/plain": [
       "      carat  cut  color  clarity  depth  table\n",
       "0  0.014504  0.5   0.00     0.78  0.643   0.56\n",
       "1  0.006423  1.0   0.85     0.78  0.619   0.58\n",
       "2  0.017405  1.0   0.91     0.25  0.590   0.59\n",
       "3  0.021342  0.0   0.85     0.25  0.651   0.58\n",
       "4  0.024864  1.0   0.00     0.25  0.605   0.59"
      ]
     },
     "execution_count": 41,
     "metadata": {},
     "output_type": "execute_result"
    }
   ],
   "source": [
    "# Eliminamos las columnas que necesitemos y normalizamos las variables numéricas\n",
    "\n",
    "df_test = df_test.drop(['x', 'y', 'z', 'id'], axis = 1) # Eliminamos las columnas que no nos valen\n",
    "\n",
    "df_test['cut'] = df_test.cut.replace('Very Geod', 'Very Good') # Corregimos la errata\n",
    "\n",
    "# Normalizamos las columnas\n",
    "df_test['depth'] = df_test.depth.apply(lambda x: x/100) \n",
    "\n",
    "df_test['table'] = df_test.table.apply(lambda x: x/100)\n",
    "\n",
    "df_test['carat'] = df_test.carat.apply(lambda x: x/np.max(df_test.carat))\n",
    "\n",
    "# Convertimos las variables categóricas en numéricas\n",
    "df_test[\"cut\"]=df_test[\"cut\"].apply(cut)\n",
    "df_test[\"color\"]=df_test[\"color\"].apply(color)\n",
    "df_test[\"clarity\"]=df_test[\"clarity\"].apply(claridad)\n",
    "\n",
    "df_test.head()"
   ]
  },
  {
   "cell_type": "code",
   "execution_count": 42,
   "id": "1e5458d7-4923-47ec-b405-35c50f41d193",
   "metadata": {},
   "outputs": [
    {
     "data": {
      "text/plain": [
       "(12000, 12000)"
      ]
     },
     "execution_count": 42,
     "metadata": {},
     "output_type": "execute_result"
    }
   ],
   "source": [
    "len(df_test), len(df_shample)"
   ]
  },
  {
   "cell_type": "code",
   "execution_count": 48,
   "id": "fb2ce095-8b5f-4480-b845-5f70727f0a90",
   "metadata": {},
   "outputs": [
    {
     "data": {
      "text/plain": [
       "array([ 2028.45      ,   919.927     ,  3919.725     ,  4861.47      ,\n",
       "        4698.115     ,   668.39333333,  2018.085     ,  2737.17666667,\n",
       "       10537.37333333,  4041.06333333])"
      ]
     },
     "execution_count": 48,
     "metadata": {},
     "output_type": "execute_result"
    }
   ],
   "source": [
    "# Hacemos la predicción\n",
    "predictions=rfr.predict(df_test)\n",
    "\n",
    "predictions[:10]"
   ]
  },
  {
   "cell_type": "code",
   "execution_count": 59,
   "id": "4cb6d158-6ce2-4576-af04-478b400c3da0",
   "metadata": {},
   "outputs": [
    {
     "data": {
      "text/html": [
       "<div>\n",
       "<style scoped>\n",
       "    .dataframe tbody tr th:only-of-type {\n",
       "        vertical-align: middle;\n",
       "    }\n",
       "\n",
       "    .dataframe tbody tr th {\n",
       "        vertical-align: top;\n",
       "    }\n",
       "\n",
       "    .dataframe thead th {\n",
       "        text-align: right;\n",
       "    }\n",
       "</style>\n",
       "<table border=\"1\" class=\"dataframe\">\n",
       "  <thead>\n",
       "    <tr style=\"text-align: right;\">\n",
       "      <th></th>\n",
       "      <th>Id</th>\n",
       "      <th>Predicted</th>\n",
       "    </tr>\n",
       "  </thead>\n",
       "  <tbody>\n",
       "    <tr>\n",
       "      <th>0</th>\n",
       "      <td>0</td>\n",
       "      <td>2028.450</td>\n",
       "    </tr>\n",
       "    <tr>\n",
       "      <th>1</th>\n",
       "      <td>1</td>\n",
       "      <td>919.927</td>\n",
       "    </tr>\n",
       "    <tr>\n",
       "      <th>2</th>\n",
       "      <td>2</td>\n",
       "      <td>3919.725</td>\n",
       "    </tr>\n",
       "    <tr>\n",
       "      <th>3</th>\n",
       "      <td>3</td>\n",
       "      <td>4861.470</td>\n",
       "    </tr>\n",
       "    <tr>\n",
       "      <th>4</th>\n",
       "      <td>4</td>\n",
       "      <td>4698.115</td>\n",
       "    </tr>\n",
       "  </tbody>\n",
       "</table>\n",
       "</div>"
      ],
      "text/plain": [
       "   Id  Predicted\n",
       "0   0   2028.450\n",
       "1   1    919.927\n",
       "2   2   3919.725\n",
       "3   3   4861.470\n",
       "4   4   4698.115"
      ]
     },
     "execution_count": 59,
     "metadata": {},
     "output_type": "execute_result"
    }
   ],
   "source": [
    "df_pred = pd.DataFrame({'Id': df_2.id,\n",
    "                        'Predicted':predictions})\n",
    "\n",
    "df_pred.head()"
   ]
  },
  {
   "cell_type": "code",
   "execution_count": 60,
   "id": "9965237a-0260-48a1-8936-2d7e753b7b5a",
   "metadata": {},
   "outputs": [],
   "source": [
    "df_pred.to_csv(r'C:\\Users\\mario\\OneDrive\\Escritorio\\Bootcamp\\ds_tb_part_21_09\\03-Machine_Learning\\Ejercicios\\diamonds_pred.csv', index = False)"
   ]
  },
  {
   "cell_type": "markdown",
   "id": "bfb84bb6-b547-431a-9b3a-7e14293ffe76",
   "metadata": {},
   "source": [
    "### Segundo modelo sin Outliers"
   ]
  },
  {
   "cell_type": "code",
   "execution_count": 80,
   "id": "d6ee817f-3118-45dd-8f91-cdc2ef5dd402",
   "metadata": {},
   "outputs": [
    {
     "data": {
      "text/plain": [
       "33643"
      ]
     },
     "execution_count": 80,
     "metadata": {},
     "output_type": "execute_result"
    }
   ],
   "source": [
    "# Cogemos el DataFrame sin los outliers\n",
    "df_train_clean = df_train[~(((df_train.price < Q1-1.5 * IQR))|(df_train.price > Q3+1.5 * IQR))]\n",
    "\n",
    "len(df_train_clean) # Eliminando los outliers nos quedan 33643 filas"
   ]
  },
  {
   "cell_type": "code",
   "execution_count": 81,
   "id": "98a9484f-f1eb-44f3-8461-781fc55ccfc6",
   "metadata": {},
   "outputs": [
    {
     "data": {
      "text/html": [
       "<div>\n",
       "<style scoped>\n",
       "    .dataframe tbody tr th:only-of-type {\n",
       "        vertical-align: middle;\n",
       "    }\n",
       "\n",
       "    .dataframe tbody tr th {\n",
       "        vertical-align: top;\n",
       "    }\n",
       "\n",
       "    .dataframe thead th {\n",
       "        text-align: right;\n",
       "    }\n",
       "</style>\n",
       "<table border=\"1\" class=\"dataframe\">\n",
       "  <thead>\n",
       "    <tr style=\"text-align: right;\">\n",
       "      <th></th>\n",
       "      <th>carat</th>\n",
       "      <th>cut</th>\n",
       "      <th>color</th>\n",
       "      <th>clarity</th>\n",
       "      <th>depth</th>\n",
       "      <th>table</th>\n",
       "      <th>price</th>\n",
       "    </tr>\n",
       "  </thead>\n",
       "  <tbody>\n",
       "    <tr>\n",
       "      <th>0</th>\n",
       "      <td>0.020204</td>\n",
       "      <td>0.80</td>\n",
       "      <td>0.91</td>\n",
       "      <td>0.20</td>\n",
       "      <td>0.622</td>\n",
       "      <td>0.58</td>\n",
       "      <td>4332.0</td>\n",
       "    </tr>\n",
       "    <tr>\n",
       "      <th>1</th>\n",
       "      <td>0.018003</td>\n",
       "      <td>0.80</td>\n",
       "      <td>0.50</td>\n",
       "      <td>0.50</td>\n",
       "      <td>0.614</td>\n",
       "      <td>0.58</td>\n",
       "      <td>4089.0</td>\n",
       "    </tr>\n",
       "    <tr>\n",
       "      <th>2</th>\n",
       "      <td>0.010602</td>\n",
       "      <td>0.95</td>\n",
       "      <td>0.85</td>\n",
       "      <td>0.78</td>\n",
       "      <td>0.622</td>\n",
       "      <td>0.54</td>\n",
       "      <td>2273.0</td>\n",
       "    </tr>\n",
       "    <tr>\n",
       "      <th>3</th>\n",
       "      <td>0.006401</td>\n",
       "      <td>0.95</td>\n",
       "      <td>0.50</td>\n",
       "      <td>1.00</td>\n",
       "      <td>0.608</td>\n",
       "      <td>0.54</td>\n",
       "      <td>673.0</td>\n",
       "    </tr>\n",
       "    <tr>\n",
       "      <th>4</th>\n",
       "      <td>0.021204</td>\n",
       "      <td>0.95</td>\n",
       "      <td>0.80</td>\n",
       "      <td>0.78</td>\n",
       "      <td>0.610</td>\n",
       "      <td>0.57</td>\n",
       "      <td>7900.0</td>\n",
       "    </tr>\n",
       "  </tbody>\n",
       "</table>\n",
       "</div>"
      ],
      "text/plain": [
       "      carat   cut  color  clarity  depth  table   price\n",
       "0  0.020204  0.80   0.91     0.20  0.622   0.58  4332.0\n",
       "1  0.018003  0.80   0.50     0.50  0.614   0.58  4089.0\n",
       "2  0.010602  0.95   0.85     0.78  0.622   0.54  2273.0\n",
       "3  0.006401  0.95   0.50     1.00  0.608   0.54   673.0\n",
       "4  0.021204  0.95   0.80     0.78  0.610   0.57  7900.0"
      ]
     },
     "execution_count": 81,
     "metadata": {},
     "output_type": "execute_result"
    }
   ],
   "source": [
    "df_train_clean.head()"
   ]
  },
  {
   "cell_type": "code",
   "execution_count": 82,
   "id": "1f5e6774-b6c3-475c-8583-89e57ae19729",
   "metadata": {},
   "outputs": [
    {
     "data": {
      "text/html": [
       "<div>\n",
       "<style scoped>\n",
       "    .dataframe tbody tr th:only-of-type {\n",
       "        vertical-align: middle;\n",
       "    }\n",
       "\n",
       "    .dataframe tbody tr th {\n",
       "        vertical-align: top;\n",
       "    }\n",
       "\n",
       "    .dataframe thead th {\n",
       "        text-align: right;\n",
       "    }\n",
       "</style>\n",
       "<table border=\"1\" class=\"dataframe\">\n",
       "  <thead>\n",
       "    <tr style=\"text-align: right;\">\n",
       "      <th></th>\n",
       "      <th>carat</th>\n",
       "      <th>cut</th>\n",
       "      <th>color</th>\n",
       "      <th>clarity</th>\n",
       "      <th>depth</th>\n",
       "      <th>table</th>\n",
       "      <th>price</th>\n",
       "    </tr>\n",
       "  </thead>\n",
       "  <tbody>\n",
       "    <tr>\n",
       "      <th>0</th>\n",
       "      <td>0.020204</td>\n",
       "      <td>0.80</td>\n",
       "      <td>0.91</td>\n",
       "      <td>0.20</td>\n",
       "      <td>0.00622</td>\n",
       "      <td>0.0058</td>\n",
       "      <td>4332.0</td>\n",
       "    </tr>\n",
       "    <tr>\n",
       "      <th>1</th>\n",
       "      <td>0.018003</td>\n",
       "      <td>0.80</td>\n",
       "      <td>0.50</td>\n",
       "      <td>0.50</td>\n",
       "      <td>0.00614</td>\n",
       "      <td>0.0058</td>\n",
       "      <td>4089.0</td>\n",
       "    </tr>\n",
       "    <tr>\n",
       "      <th>2</th>\n",
       "      <td>0.010602</td>\n",
       "      <td>0.95</td>\n",
       "      <td>0.85</td>\n",
       "      <td>0.78</td>\n",
       "      <td>0.00622</td>\n",
       "      <td>0.0054</td>\n",
       "      <td>2273.0</td>\n",
       "    </tr>\n",
       "    <tr>\n",
       "      <th>3</th>\n",
       "      <td>0.006401</td>\n",
       "      <td>0.95</td>\n",
       "      <td>0.50</td>\n",
       "      <td>1.00</td>\n",
       "      <td>0.00608</td>\n",
       "      <td>0.0054</td>\n",
       "      <td>673.0</td>\n",
       "    </tr>\n",
       "    <tr>\n",
       "      <th>4</th>\n",
       "      <td>0.021204</td>\n",
       "      <td>0.95</td>\n",
       "      <td>0.80</td>\n",
       "      <td>0.78</td>\n",
       "      <td>0.00610</td>\n",
       "      <td>0.0057</td>\n",
       "      <td>7900.0</td>\n",
       "    </tr>\n",
       "  </tbody>\n",
       "</table>\n",
       "</div>"
      ],
      "text/plain": [
       "      carat   cut  color  clarity    depth   table   price\n",
       "0  0.020204  0.80   0.91     0.20  0.00622  0.0058  4332.0\n",
       "1  0.018003  0.80   0.50     0.50  0.00614  0.0058  4089.0\n",
       "2  0.010602  0.95   0.85     0.78  0.00622  0.0054  2273.0\n",
       "3  0.006401  0.95   0.50     1.00  0.00608  0.0054   673.0\n",
       "4  0.021204  0.95   0.80     0.78  0.00610  0.0057  7900.0"
      ]
     },
     "execution_count": 82,
     "metadata": {},
     "output_type": "execute_result"
    }
   ],
   "source": [
    "# Eliminamos las columnas que necesitemos y normalizamos las variables numéricas\n",
    "\n",
    "df_train_clean['cut'] = df_train_clean.cut.replace('Very Geod', 'Very Good') # Corregimos la errata\n",
    "\n",
    "# Normalizamos las columnas\n",
    "df_train_clean['depth'] = df_train_clean.depth.apply(lambda x: x/100) \n",
    "\n",
    "df_train_clean['table'] = df_train_clean.table.apply(lambda x: x/100)\n",
    "\n",
    "df_train_clean['carat'] = df_train_clean.carat.apply(lambda x: x/np.max(df_train_clean.carat))\n",
    "\n",
    "# Convertimos las variables categóricas en numéricas\n",
    "df_train_clean[\"cut\"]=df_train_clean[\"cut\"].apply(cut)\n",
    "df_train_clean[\"color\"]=df_train_clean[\"color\"].apply(color)\n",
    "df_train_clean[\"clarity\"]=df_train_clean[\"clarity\"].apply(claridad)\n",
    "\n",
    "df_train_clean.head()"
   ]
  },
  {
   "cell_type": "code",
   "execution_count": 83,
   "id": "b34486e7-9ec9-435b-8c52-045b28047eef",
   "metadata": {},
   "outputs": [],
   "source": [
    "# Aplicamos el modelo Random Forest\n",
    "X = df_train.drop(columns = ['price'])\n",
    "y = df_train.price"
   ]
  },
  {
   "cell_type": "code",
   "execution_count": 84,
   "id": "b1c8228f-2f76-4f4f-9c46-a01d635f9735",
   "metadata": {},
   "outputs": [],
   "source": [
    "from sklearn.model_selection import train_test_split as tts\n",
    "\n",
    "X_train, X_test, y_train, y_test = tts(X, y, test_size=0.2, random_state=42)"
   ]
  },
  {
   "cell_type": "code",
   "execution_count": 85,
   "id": "a5d815c7-6427-4ddd-9b08-5c42094221f9",
   "metadata": {},
   "outputs": [
    {
     "data": {
      "text/plain": [
       "(0.9965693867758086, 0.9756472315816765)"
      ]
     },
     "execution_count": 85,
     "metadata": {},
     "output_type": "execute_result"
    }
   ],
   "source": [
    "from sklearn.ensemble import RandomForestRegressor as RFR\n",
    "\n",
    "rfr=RFR()\n",
    "rfr.fit(X_train, y_train) # Entrenamos el modelo\n",
    "\n",
    "train_score=rfr.score(X_train, y_train)  # R2 score\n",
    "test_score=rfr.score(X_test, y_test)\n",
    "\n",
    "\n",
    "train_score, test_score # Hay algo de Overfitting (no demasiado)"
   ]
  },
  {
   "cell_type": "code",
   "execution_count": 86,
   "id": "71872d6d-df61-4ad4-81ad-332be6edf836",
   "metadata": {},
   "outputs": [],
   "source": [
    "# Hacemos la predicción\n",
    "y_pred=rfr.predict(X_test)"
   ]
  },
  {
   "cell_type": "code",
   "execution_count": 87,
   "id": "e969b80f-dd25-4ce2-99f9-24e12e9895c3",
   "metadata": {},
   "outputs": [
    {
     "name": "stdout",
     "output_type": "stream",
     "text": [
      "Error absoluto medio: 297.89 grados.\n"
     ]
    }
   ],
   "source": [
    "# Sacamos el Error absoluto medio\n",
    "errors = abs(y_pred - y_test)\n",
    "print('Error absoluto medio:', round(np.mean(errors), 2), 'grados.')"
   ]
  },
  {
   "cell_type": "code",
   "execution_count": 88,
   "id": "058d2295-03b2-449a-ad6d-0341a9e811ed",
   "metadata": {},
   "outputs": [
    {
     "name": "stdout",
     "output_type": "stream",
     "text": [
      "Accuracy: 90.64 %.\n"
     ]
    }
   ],
   "source": [
    "# Sacamos el porcentaje de acierto del modelo\n",
    "mape = 100 * (errors / y_test)\n",
    "accuracy = 100 - np.mean(mape)\n",
    "print('Accuracy:', round(accuracy, 2), '%.')"
   ]
  },
  {
   "cell_type": "code",
   "execution_count": 89,
   "id": "9ea347ee-8bc6-4ca4-b9da-343617c003ad",
   "metadata": {},
   "outputs": [
    {
     "data": {
      "text/plain": [
       "603.0606317160059"
      ]
     },
     "execution_count": 89,
     "metadata": {},
     "output_type": "execute_result"
    }
   ],
   "source": [
    "# Sacamos el error cuadrático medio\n",
    "from sklearn.metrics import mean_squared_error\n",
    "\n",
    "rms = mean_squared_error(y_test, y_pred, squared=False)\n",
    "\n",
    "rms # Mejoramos algo el modelo, no demasiado "
   ]
  },
  {
   "cell_type": "code",
   "execution_count": 91,
   "id": "c2bfb441-ae92-469e-90e5-995f2143658b",
   "metadata": {},
   "outputs": [
    {
     "data": {
      "text/plain": [
       "array([ 2013.87      ,   905.58666667,  3952.27      ,  5036.10166667,\n",
       "        4706.21      ,   677.69      ,  2030.615     ,  2726.4725    ,\n",
       "       10484.99333333,  4053.385     ])"
      ]
     },
     "execution_count": 91,
     "metadata": {},
     "output_type": "execute_result"
    }
   ],
   "source": [
    "# Predecimos con las transformacioens hechas\n",
    "predictions=rfr.predict(df_test)\n",
    "\n",
    "predictions[:10]"
   ]
  },
  {
   "cell_type": "code",
   "execution_count": 92,
   "id": "114c4a43-44d2-4f58-a516-7b90988beffa",
   "metadata": {},
   "outputs": [
    {
     "data": {
      "text/html": [
       "<div>\n",
       "<style scoped>\n",
       "    .dataframe tbody tr th:only-of-type {\n",
       "        vertical-align: middle;\n",
       "    }\n",
       "\n",
       "    .dataframe tbody tr th {\n",
       "        vertical-align: top;\n",
       "    }\n",
       "\n",
       "    .dataframe thead th {\n",
       "        text-align: right;\n",
       "    }\n",
       "</style>\n",
       "<table border=\"1\" class=\"dataframe\">\n",
       "  <thead>\n",
       "    <tr style=\"text-align: right;\">\n",
       "      <th></th>\n",
       "      <th>Id</th>\n",
       "      <th>Predicted</th>\n",
       "    </tr>\n",
       "  </thead>\n",
       "  <tbody>\n",
       "    <tr>\n",
       "      <th>0</th>\n",
       "      <td>0</td>\n",
       "      <td>2013.870000</td>\n",
       "    </tr>\n",
       "    <tr>\n",
       "      <th>1</th>\n",
       "      <td>1</td>\n",
       "      <td>905.586667</td>\n",
       "    </tr>\n",
       "    <tr>\n",
       "      <th>2</th>\n",
       "      <td>2</td>\n",
       "      <td>3952.270000</td>\n",
       "    </tr>\n",
       "    <tr>\n",
       "      <th>3</th>\n",
       "      <td>3</td>\n",
       "      <td>5036.101667</td>\n",
       "    </tr>\n",
       "    <tr>\n",
       "      <th>4</th>\n",
       "      <td>4</td>\n",
       "      <td>4706.210000</td>\n",
       "    </tr>\n",
       "  </tbody>\n",
       "</table>\n",
       "</div>"
      ],
      "text/plain": [
       "   Id    Predicted\n",
       "0   0  2013.870000\n",
       "1   1   905.586667\n",
       "2   2  3952.270000\n",
       "3   3  5036.101667\n",
       "4   4  4706.210000"
      ]
     },
     "execution_count": 92,
     "metadata": {},
     "output_type": "execute_result"
    }
   ],
   "source": [
    "df_pred_2 = pd.DataFrame({'Id': df_2.id,\n",
    "                        'Predicted':predictions})\n",
    "\n",
    "df_pred_2.head()"
   ]
  },
  {
   "cell_type": "code",
   "execution_count": 93,
   "id": "cf06a5d0-8a3c-4e5d-9d9c-4906d66e1879",
   "metadata": {},
   "outputs": [],
   "source": [
    "df_pred_2.to_csv(r'C:\\Users\\mario\\OneDrive\\Escritorio\\Bootcamp\\ds_tb_part_21_09\\03-Machine_Learning\\Ejercicios\\diamonds_pred_2.csv', index = False)"
   ]
  },
  {
   "cell_type": "code",
   "execution_count": null,
   "id": "12892865-e733-4d78-9e9e-390c83ab7f1e",
   "metadata": {},
   "outputs": [],
   "source": []
  }
 ],
 "metadata": {
  "kernelspec": {
   "display_name": "Python 3 (ipykernel)",
   "language": "python",
   "name": "python3"
  },
  "language_info": {
   "codemirror_mode": {
    "name": "ipython",
    "version": 3
   },
   "file_extension": ".py",
   "mimetype": "text/x-python",
   "name": "python",
   "nbconvert_exporter": "python",
   "pygments_lexer": "ipython3",
   "version": "3.7.11"
  }
 },
 "nbformat": 4,
 "nbformat_minor": 5
}
